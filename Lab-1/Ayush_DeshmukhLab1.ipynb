{
 "cells": [
  {
   "cell_type": "markdown",
   "id": "b185519a-eeb3-4d85-ba52-4aa84c76b996",
   "metadata": {},
   "source": [
    "## Probability Lab - 1\n",
    "\n",
    "<h3>Ayush Deshmukh - 211IT014</h3>"
   ]
  },
  {
   "cell_type": "code",
   "execution_count": 29,
   "id": "d48ffe72-113c-4fc1-a9ec-cbff4b342654",
   "metadata": {},
   "outputs": [],
   "source": [
    "import random \n",
    "import numpy as np\n",
    "from tensorflow.math import confusion_matrix\n",
    "import seaborn as sns\n",
    "import matplotlib.pyplot as plt"
   ]
  },
  {
   "cell_type": "code",
   "execution_count": 162,
   "id": "3f5a7634-a0e2-4f3e-b5c5-ef121a18ee88",
   "metadata": {},
   "outputs": [
    {
     "data": {
      "text/plain": [
       "[0, 1, 1, 0, 1, 1, 0, 1, 1, 1]"
      ]
     },
     "execution_count": 162,
     "metadata": {},
     "output_type": "execute_result"
    }
   ],
   "source": [
    "truth = list(np.random.randint(low = 0,high=2,size=500))\n",
    "truth[:10]"
   ]
  },
  {
   "cell_type": "code",
   "execution_count": 163,
   "id": "5bd6b144-02b5-4237-afd5-c6d43c6bb18d",
   "metadata": {},
   "outputs": [
    {
     "data": {
      "text/plain": [
       "[0, 0, 0, 1, 0, 1, 1, 1, 1, 1]"
      ]
     },
     "execution_count": 163,
     "metadata": {},
     "output_type": "execute_result"
    }
   ],
   "source": [
    "pred = list(np.random.randint(low = 0,high=2,size=500))\n",
    "pred[:10]"
   ]
  },
  {
   "cell_type": "code",
   "execution_count": 164,
   "id": "30fed553-3961-4fed-b725-4902b452025b",
   "metadata": {},
   "outputs": [],
   "source": [
    "def true_positive(truth,pred):\n",
    "    '''\n",
    "    True positives are positive labels(1) that the model got correct\n",
    "    \n",
    "    parameter\n",
    "    --------\n",
    "    truth : list of true labels\n",
    "    pred  : list of predicted labels\n",
    "    '''\n",
    "    true_positive = 0\n",
    "    for i in range(len(truth)):\n",
    "        if truth[i]==1 and pred[i]==1:\n",
    "            true_positive+=1\n",
    "    return true_positive"
   ]
  },
  {
   "cell_type": "code",
   "execution_count": 165,
   "id": "d2935135-2515-4986-a237-f3a3bf51c9bd",
   "metadata": {},
   "outputs": [],
   "source": [
    "def true_negative(truth,pred):\n",
    "    '''\n",
    "    True negatives are negative labels(0) that the model got correct\n",
    "    \n",
    "    parameter\n",
    "    --------\n",
    "    truth : list of true labels\n",
    "    pred  : list of predicted labels\n",
    "    '''\n",
    "    true_negative = 0\n",
    "\n",
    "    for i in range(len(truth)):\n",
    "        if truth[i]==0 and pred[i]==0:\n",
    "            true_negative+=1\n",
    "    return true_negative"
   ]
  },
  {
   "cell_type": "code",
   "execution_count": 166,
   "id": "067f7112-420b-4ea7-b3d9-8676c34c2dec",
   "metadata": {},
   "outputs": [],
   "source": [
    "def false_positive(truth,pred):\n",
    "    '''\n",
    "    False positives are negative labels(0) that the model got incorrect i.e it said a person has the disease but in reality he does not\n",
    "    \n",
    "    parameter\n",
    "    --------\n",
    "    truth : list of true labels\n",
    "    pred  : list of predicted labels\n",
    "    '''\n",
    "    false_positive = 0\n",
    "    for i in range(len(truth)):\n",
    "        if truth[i]==0 and pred[i]==1:\n",
    "            false_positive+=1\n",
    "    return false_positive"
   ]
  },
  {
   "cell_type": "code",
   "execution_count": 167,
   "id": "58197160-bca8-48c2-8a4c-457c0599b01f",
   "metadata": {},
   "outputs": [],
   "source": [
    "def false_negative(truth,pred):\n",
    "    '''\n",
    "    False negative are positive labels(1) that the model got incorrect i.e it said a person does not have the disease but in reality he does.\n",
    "    \n",
    "    parameter\n",
    "    --------\n",
    "    truth : list of true labels\n",
    "    pred  : list of predicted labels\n",
    "    '''\n",
    "    false_negative = 0\n",
    "    for i in range(len(truth)):\n",
    "        if truth[i]==1 and pred[i]==0:\n",
    "            false_negative+=1\n",
    "    return false_negative"
   ]
  },
  {
   "cell_type": "code",
   "execution_count": 168,
   "id": "511bd048-ab0e-4150-a57d-8149c836684c",
   "metadata": {},
   "outputs": [
    {
     "data": {
      "text/plain": [
       "126"
      ]
     },
     "execution_count": 168,
     "metadata": {},
     "output_type": "execute_result"
    }
   ],
   "source": [
    "tp = true_positive(truth,pred)\n",
    "tp"
   ]
  },
  {
   "cell_type": "code",
   "execution_count": 169,
   "id": "238cdcdd-5b9e-49d9-b0c6-6df374427d7c",
   "metadata": {},
   "outputs": [
    {
     "data": {
      "text/plain": [
       "120"
      ]
     },
     "execution_count": 169,
     "metadata": {},
     "output_type": "execute_result"
    }
   ],
   "source": [
    "tn = true_negative(truth,pred)\n",
    "tn"
   ]
  },
  {
   "cell_type": "code",
   "execution_count": 170,
   "id": "49754c6a-1288-46e8-955d-047b4cc0fbc1",
   "metadata": {},
   "outputs": [
    {
     "data": {
      "text/plain": [
       "124"
      ]
     },
     "execution_count": 170,
     "metadata": {},
     "output_type": "execute_result"
    }
   ],
   "source": [
    "fp = false_positive(truth,pred)\n",
    "fp"
   ]
  },
  {
   "cell_type": "code",
   "execution_count": 171,
   "id": "f8bc9351-6b14-48a2-93eb-8dea14efd210",
   "metadata": {},
   "outputs": [
    {
     "data": {
      "text/plain": [
       "130"
      ]
     },
     "execution_count": 171,
     "metadata": {},
     "output_type": "execute_result"
    }
   ],
   "source": [
    "fn = false_negative(truth,pred)\n",
    "fn"
   ]
  },
  {
   "cell_type": "markdown",
   "id": "eedcc26d-587d-42e8-befe-c4d30c031e16",
   "metadata": {},
   "source": [
    "## Question 1"
   ]
  },
  {
   "cell_type": "code",
   "execution_count": 172,
   "id": "6d56b40d-6d97-47b4-bbba-40648d9f0db6",
   "metadata": {},
   "outputs": [],
   "source": [
    "def have_disease(truth):\n",
    "    pos = 0\n",
    "    for i in range(len(truth)):\n",
    "        if truth[i]==1:\n",
    "            pos+=1\n",
    "    return pos/len(truth)"
   ]
  },
  {
   "cell_type": "code",
   "execution_count": 173,
   "id": "7cc86414-f86c-43f5-a4c8-edeb9416dea9",
   "metadata": {},
   "outputs": [
    {
     "data": {
      "text/plain": [
       "0.512"
      ]
     },
     "execution_count": 173,
     "metadata": {},
     "output_type": "execute_result"
    }
   ],
   "source": [
    "q1 = have_disease(truth)\n",
    "q1"
   ]
  },
  {
   "cell_type": "markdown",
   "id": "0a590dc3-f8b7-458e-93f4-f981cf96fe6f",
   "metadata": {},
   "source": [
    "## Question 2"
   ]
  },
  {
   "cell_type": "code",
   "execution_count": 174,
   "id": "dbfbce7b-fbb5-427c-b3d9-6268b5784f58",
   "metadata": {},
   "outputs": [],
   "source": [
    "def probpos(tp,tn,fp,fn):\n",
    "    return (tp+fp)/(tp+tn+fp+fn)"
   ]
  },
  {
   "cell_type": "code",
   "execution_count": 175,
   "id": "bd8a99ad-70fa-4c15-9c08-be1e0f0dd909",
   "metadata": {},
   "outputs": [
    {
     "data": {
      "text/plain": [
       "0.5"
      ]
     },
     "execution_count": 175,
     "metadata": {},
     "output_type": "execute_result"
    }
   ],
   "source": [
    "q2 = probpos(tp,tn,fp,fn)\n",
    "q2"
   ]
  },
  {
   "cell_type": "markdown",
   "id": "490c1c86-1fc8-4e21-a293-3578b3541863",
   "metadata": {},
   "source": [
    "## Question 3"
   ]
  },
  {
   "cell_type": "code",
   "execution_count": 176,
   "id": "d190206e-b0f4-4ea8-8b37-478c666cfbe3",
   "metadata": {},
   "outputs": [],
   "source": [
    "def pos_given_having(tp,fn):\n",
    "    return tp/(tp+fn)"
   ]
  },
  {
   "cell_type": "code",
   "execution_count": 177,
   "id": "c88cd326-a132-4582-82b4-1012dd9e3c5c",
   "metadata": {},
   "outputs": [
    {
     "data": {
      "text/plain": [
       "0.4921875"
      ]
     },
     "execution_count": 177,
     "metadata": {},
     "output_type": "execute_result"
    }
   ],
   "source": [
    "q3 = pos_given_having(tp,fn)\n",
    "q3"
   ]
  },
  {
   "cell_type": "markdown",
   "id": "8d94cafc-bcf6-43fc-83ec-1bb7442bc003",
   "metadata": {},
   "source": [
    "## Question 4"
   ]
  },
  {
   "cell_type": "code",
   "execution_count": 178,
   "id": "c3d5ca76-0529-4d93-9543-db5157d23909",
   "metadata": {},
   "outputs": [],
   "source": [
    "def bayes_q4(tp,tn,fp,fn):\n",
    "    return pos_given_having(tp,fn)*have_disease(truth)/probpos(tp,tn,fp,fn)"
   ]
  },
  {
   "cell_type": "code",
   "execution_count": 179,
   "id": "fc16cce6-1f34-4ad7-87fb-15e525fbe09f",
   "metadata": {},
   "outputs": [
    {
     "data": {
      "text/plain": [
       "0.504"
      ]
     },
     "execution_count": 179,
     "metadata": {},
     "output_type": "execute_result"
    }
   ],
   "source": [
    "q4 = bayes_q4(tp,tn,fp,fn)\n",
    "q4"
   ]
  },
  {
   "cell_type": "code",
   "execution_count": 180,
   "id": "67e5806b-fda2-4888-ac8a-2b9a48362a41",
   "metadata": {},
   "outputs": [],
   "source": [
    "## Question 4"
   ]
  },
  {
   "cell_type": "code",
   "execution_count": 181,
   "id": "3002f5d2-c9b0-4482-b198-ea84a6494b57",
   "metadata": {},
   "outputs": [
    {
     "data": {
      "image/png": "[encoded data removed]",
      "text/plain": [
       "<Figure size 640x480 with 2 Axes>"
      ]
     },
     "metadata": {},
     "output_type": "display_data"
    }
   ],
   "source": [
    "matrix = confusion_matrix(truth,pred)\n",
    "sns.heatmap(matrix,\n",
    "            annot=True,\n",
    "            fmt='g',\n",
    "            )\n",
    "plt.ylabel('Prediction',fontsize=13)\n",
    "plt.xlabel('Actual',fontsize=13)\n",
    "plt.title('Confusion Matrix',fontsize=17)\n",
    "plt.show()\n"
   ]
  },
  {
   "cell_type": "code",
   "execution_count": 182,
   "id": "ca1afde5-4005-4b11-83cb-6f99ffa2cdce",
   "metadata": {},
   "outputs": [],
   "source": [
    "def accuracy(tp,tn,fp,fn):\n",
    "    return (tp+tn)/(tp+tn+fp+fn)\n",
    "def sensitivity(tp,fn):\n",
    "    return tp/(tp+fn)\n",
    "def speciicity(tn,fp):\n",
    "    return tn/(tn+fp)"
   ]
  },
  {
   "cell_type": "code",
   "execution_count": 183,
   "id": "34899c41-19f2-44c7-a84c-01f56b220a9c",
   "metadata": {},
   "outputs": [
    {
     "data": {
      "text/plain": [
       "0.492"
      ]
     },
     "execution_count": 183,
     "metadata": {},
     "output_type": "execute_result"
    }
   ],
   "source": [
    "a = accuracy(tp,tn,fp,fn)\n",
    "a"
   ]
  },
  {
   "cell_type": "code",
   "execution_count": 184,
   "id": "539af8c4-054e-4a03-ad16-623b3601f15d",
   "metadata": {},
   "outputs": [
    {
     "data": {
      "text/plain": [
       "0.4921875"
      ]
     },
     "execution_count": 184,
     "metadata": {},
     "output_type": "execute_result"
    }
   ],
   "source": [
    "sen = sensitivity(tp,fn)\n",
    "sen"
   ]
  },
  {
   "cell_type": "code",
   "execution_count": 185,
   "id": "f57799ef-2b67-44e9-b180-d7b48e966f5a",
   "metadata": {},
   "outputs": [
    {
     "data": {
      "text/plain": [
       "0.4918032786885246"
      ]
     },
     "execution_count": 185,
     "metadata": {},
     "output_type": "execute_result"
    }
   ],
   "source": [
    "spe = speciicity(tn,fp)\n",
    "spe"
   ]
  },
  {
   "cell_type": "markdown",
   "id": "87ce9368-2f29-4eb6-8e28-94faa3d63126",
   "metadata": {},
   "source": [
    "## Question 6"
   ]
  },
  {
   "cell_type": "code",
   "execution_count": 186,
   "id": "03ba82fa-3ba9-4265-8a9e-e359a4bcb478",
   "metadata": {},
   "outputs": [],
   "source": [
    "def precision(tp,fp):\n",
    "    return (tp)/(tp+fp)\n",
    "def recall(tp,fn):\n",
    "    return tp/(tp+fn)\n",
    "def f1score(tp,fp,fn):\n",
    "    return (2*precision(tp,fp)*recall(tp,fn)/(precision(tp,fp)+recall(tp,fn)))\n",
    "    "
   ]
  },
  {
   "cell_type": "code",
   "execution_count": 187,
   "id": "01ccc44a-143f-4d64-ba80-32ed111a995d",
   "metadata": {},
   "outputs": [
    {
     "data": {
      "text/plain": [
       "0.504"
      ]
     },
     "execution_count": 187,
     "metadata": {},
     "output_type": "execute_result"
    }
   ],
   "source": [
    "pre = precision(tp,fp)\n",
    "pre"
   ]
  },
  {
   "cell_type": "code",
   "execution_count": 188,
   "id": "9c0f0332-a7fa-4a2f-a616-aea682708cfe",
   "metadata": {},
   "outputs": [
    {
     "data": {
      "text/plain": [
       "0.4921875"
      ]
     },
     "execution_count": 188,
     "metadata": {},
     "output_type": "execute_result"
    }
   ],
   "source": [
    "rec = recall(tp,fn)\n",
    "rec"
   ]
  },
  {
   "cell_type": "code",
   "execution_count": 189,
   "id": "6d286e8b-44af-40c7-a3d6-4246b894562c",
   "metadata": {},
   "outputs": [
    {
     "data": {
      "text/plain": [
       "0.4980237154150197"
      ]
     },
     "execution_count": 189,
     "metadata": {},
     "output_type": "execute_result"
    }
   ],
   "source": [
    "f1 = f1score(tp,fp,fn)\n",
    "f1"
   ]
  },
  {
   "cell_type": "markdown",
   "id": "c7f0d222-4c46-42c0-adf2-bf746e6d133a",
   "metadata": {},
   "source": [
    "## Question 7 : Analysis"
   ]
  },
  {
   "cell_type": "code",
   "execution_count": 190,
   "id": "37c253c6-cb8f-440a-8888-1f43102af2af",
   "metadata": {},
   "outputs": [],
   "source": [
    "\n",
    "record[len(truth)] = {'true_positive' : tp,'true_negative' : tn,'false_positive': fp,'false_negative' : fn, 'question1': q1, 'question2' : q2, 'question3' : q3,'question3' : q4,'accuracy' : a,\n",
    "                      'sensitivity' : sen,'specificity' : spe,'precision' : pre,'recall' : rec,'f1score' :f1}"
   ]
  },
  {
   "cell_type": "code",
   "execution_count": 191,
   "id": "c4c4f72a-f95c-42b6-a90b-000271d62542",
   "metadata": {},
   "outputs": [
    {
     "data": {
      "text/plain": [
       "{20: {'true_positive': 2,\n",
       "  'true_negative': 6,\n",
       "  'false_positive': 4,\n",
       "  'false_negative': 8,\n",
       "  'question1': 0.5,\n",
       "  'question2': 0.3,\n",
       "  'question3': 0.33333333333333337,\n",
       "  'accuracy': 0.4,\n",
       "  'sensitivity': 0.2,\n",
       "  'specificity': 0.6,\n",
       "  'precision': 0.3333333333333333,\n",
       "  'recall': 0.2,\n",
       "  'f1score': 0.25},\n",
       " 100: {'true_positive': 18,\n",
       "  'true_negative': 26,\n",
       "  'false_positive': 28,\n",
       "  'false_negative': 28,\n",
       "  'question1': 0.46,\n",
       "  'question2': 0.46,\n",
       "  'question3': 0.391304347826087,\n",
       "  'accuracy': 0.44,\n",
       "  'sensitivity': 0.391304347826087,\n",
       "  'specificity': 0.48148148148148145,\n",
       "  'precision': 0.391304347826087,\n",
       "  'recall': 0.391304347826087,\n",
       "  'f1score': 0.391304347826087},\n",
       " 200: {'true_positive': 54,\n",
       "  'true_negative': 43,\n",
       "  'false_positive': 40,\n",
       "  'false_negative': 63,\n",
       "  'question1': 0.585,\n",
       "  'question2': 0.47,\n",
       "  'question3': 0.574468085106383,\n",
       "  'accuracy': 0.485,\n",
       "  'sensitivity': 0.46153846153846156,\n",
       "  'specificity': 0.5180722891566265,\n",
       "  'precision': 0.574468085106383,\n",
       "  'recall': 0.46153846153846156,\n",
       "  'f1score': 0.5118483412322276},\n",
       " 500: {'true_positive': 126,\n",
       "  'true_negative': 120,\n",
       "  'false_positive': 124,\n",
       "  'false_negative': 130,\n",
       "  'question1': 0.512,\n",
       "  'question2': 0.5,\n",
       "  'question3': 0.504,\n",
       "  'accuracy': 0.492,\n",
       "  'sensitivity': 0.4921875,\n",
       "  'specificity': 0.4918032786885246,\n",
       "  'precision': 0.504,\n",
       "  'recall': 0.4921875,\n",
       "  'f1score': 0.4980237154150197}}"
      ]
     },
     "execution_count": 191,
     "metadata": {},
     "output_type": "execute_result"
    }
   ],
   "source": [
    "record"
   ]
  },
  {
   "cell_type": "code",
   "execution_count": null,
   "id": "6bfce492-4181-4130-add2-77dee57068f2",
   "metadata": {},
   "outputs": [],
   "source": []
  }
 ],
 "metadata": {
  "kernelspec": {
   "display_name": "Python 3 (ipykernel)",
   "language": "python",
   "name": "python3"
  },
  "language_info": {
   "codemirror_mode": {
    "name": "ipython",
    "version": 3
   },
   "file_extension": ".py",
   "mimetype": "text/x-python",
   "name": "python",
   "nbconvert_exporter": "python",
   "pygments_lexer": "ipython3",
   "version": "3.10.12"
  }
 },
 "nbformat": 4,
 "nbformat_minor": 5
}
